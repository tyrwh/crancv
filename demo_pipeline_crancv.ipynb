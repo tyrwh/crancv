{
 "cells": [
  {
   "cell_type": "code",
   "execution_count": 2,
   "id": "f40ce191-8ded-4c8f-a43e-bb759ba6f4a4",
   "metadata": {},
   "outputs": [],
   "source": [
    "### Demo pipeline for CranCV\n",
    "# to proceed through the "
   ]
  },
  {
   "cell_type": "code",
   "execution_count": 3,
   "id": "26072be9-7893-4356-8ac7-f3b397116c1a",
   "metadata": {},
   "outputs": [],
   "source": [
    "# load in the image and view it"
   ]
  },
  {
   "cell_type": "code",
   "execution_count": 4,
   "id": "17ea8d62-b14c-4cc1-8991-ced3b9adcff7",
   "metadata": {},
   "outputs": [],
   "source": [
    "# first, find the size markers"
   ]
  },
  {
   "cell_type": "code",
   "execution_count": 5,
   "id": "7445ecb3-4862-452f-92cd-7d33778d1ad9",
   "metadata": {},
   "outputs": [],
   "source": [
    "# then find the berries\n",
    "# maybe show an alternate view of the berries?"
   ]
  },
  {
   "cell_type": "code",
   "execution_count": 6,
   "id": "202561bc-07b5-4df1-9d8e-7c683b919471",
   "metadata": {},
   "outputs": [],
   "source": [
    "# measure the berries"
   ]
  },
  {
   "cell_type": "code",
   "execution_count": 7,
   "id": "f398752a-acc4-4c01-b17b-034de94e63c3",
   "metadata": {},
   "outputs": [],
   "source": [
    "# measure the color (perhaps show a demo of why erosion is useful)"
   ]
  },
  {
   "cell_type": "code",
   "execution_count": 8,
   "id": "36c0edc0-bfa9-4a5c-9f1d-543da607299f",
   "metadata": {},
   "outputs": [],
   "source": [
    "# sort the berries into rows and columns"
   ]
  },
  {
   "cell_type": "code",
   "execution_count": null,
   "id": "ebeef6b7-03b0-48b7-a061-a446d3ae0b96",
   "metadata": {},
   "outputs": [],
   "source": [
    "# annotations saved out"
   ]
  }
 ],
 "metadata": {
  "kernelspec": {
   "display_name": "Python 3 (ipykernel)",
   "language": "python",
   "name": "python3"
  },
  "language_info": {
   "codemirror_mode": {
    "name": "ipython",
    "version": 3
   },
   "file_extension": ".py",
   "mimetype": "text/x-python",
   "name": "python",
   "nbconvert_exporter": "python",
   "pygments_lexer": "ipython3",
   "version": "3.8.17"
  }
 },
 "nbformat": 4,
 "nbformat_minor": 5
}
